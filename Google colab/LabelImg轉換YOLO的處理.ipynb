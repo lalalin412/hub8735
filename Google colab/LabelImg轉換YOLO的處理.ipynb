{
  "nbformat": 4,
  "nbformat_minor": 0,
  "metadata": {
    "colab": {
      "provenance": [],
      "gpuType": "T4"
    },
    "kernelspec": {
      "name": "python3",
      "display_name": "Python 3"
    },
    "language_info": {
      "name": "python"
    },
    "accelerator": "GPU",
    "gpuClass": "standard"
  },
  "cells": [
    {
      "cell_type": "markdown",
      "source": [
        "訪問或操作 Google Drive 上的文件"
      ],
      "metadata": {
        "id": "4lrv4J8FEZQk"
      }
    },
    {
      "cell_type": "code",
      "execution_count": null,
      "metadata": {
        "colab": {
          "base_uri": "https://localhost:8080/"
        },
        "id": "k6eLoZ20cI9A",
        "outputId": "502128dd-6c5f-4807-fe47-b0eb8b0d665b"
      },
      "outputs": [
        {
          "output_type": "stream",
          "name": "stdout",
          "text": [
            "/\n",
            "Drive already mounted at /content/gdrive; to attempt to forcibly remount, call drive.mount(\"/content/gdrive\", force_remount=True).\n"
          ]
        }
      ],
      "source": [
        "#訪問或操作 Google Drive 上的文件，請允許存取權\n",
        "%cd ..\n",
        "from google.colab import drive\n",
        "drive.mount('/content/gdrive')"
      ]
    },
    {
      "cell_type": "code",
      "source": [
        "#進入data資料夾\n",
        "%cd /content/gdrive/MyDrive/data\n",
        "%ls"
      ],
      "metadata": {
        "colab": {
          "base_uri": "https://localhost:8080/"
        },
        "id": "vqH93-ESkC28",
        "outputId": "1eae4423-cd5a-4c91-a2f3-702c81ecf8bc"
      },
      "execution_count": null,
      "outputs": [
        {
          "output_type": "stream",
          "name": "stdout",
          "text": [
            "/content/gdrive/MyDrive/data\n",
            "all_train.txt  \u001b[0m\u001b[01;34mJPEGImages\u001b[0m/  \u001b[01;34mlabels\u001b[0m/  \u001b[01;34mresults\u001b[0m/  test.txt  train.txt  trainval.txt  val.txt\n"
          ]
        }
      ]
    },
    {
      "cell_type": "code",
      "source": [
        "# 導入Python模組\n",
        "import os\n",
        "import random\n",
        "\n",
        "# 設定訓練集和訓練驗證集的比例\n",
        "trainval_percent = 0.1\n",
        "train_percent = 0.9\n",
        "\n",
        "# 定義了標籤文件的路徑和圖像文件的路徑\n",
        "txtfilepath = 'labels'\n",
        "imgfilepath = './JPEGImages/'\n",
        "total_txt = os.listdir(txtfilepath)\n",
        "\n",
        "num = len(total_txt)\n",
        "list = range(num)\n",
        "tv = int(num * trainval_percent)\n",
        "tr = int(tv * train_percent)\n",
        "trainval = random.sample(list, tv)\n",
        "train = random.sample(trainval, tr)\n",
        "\n",
        "# 創建四個文件,分別寫入訓練驗證集、測試集、訓練集、驗證集的文件列表\n",
        "ftrainval = open('trainval.txt', 'w')\n",
        "ftest = open('test.txt', 'w')\n",
        "ftrain = open('train.txt', 'w')\n",
        "fval = open('val.txt', 'w')\n",
        "\n",
        "# 遍歷標籤文件列表,根據隨機劃分結果寫入相應的文件中\n",
        "for i in list:\n",
        "    name = imgfilepath + total_txt[i][:-4] + '.jpg\\n'\n",
        "    if i in trainval:\n",
        "        ftrainval.write(name)\n",
        "        if i in train:\n",
        "            ftest.write(name)\n",
        "        else:\n",
        "            fval.write(name)\n",
        "    else:\n",
        "        ftrain.write(name)\n",
        "\n",
        "\n",
        "ftrainval.close()\n",
        "ftrain.close()\n",
        "fval.close()\n",
        "ftest.close()"
      ],
      "metadata": {
        "id": "1oU-d87xmAZ8"
      },
      "execution_count": null,
      "outputs": []
    },
    {
      "cell_type": "code",
      "source": [
        "cat train.txt val.txt  > all_train.txt"
      ],
      "metadata": {
        "id": "DCP5SSOxxiK2"
      },
      "execution_count": null,
      "outputs": []
    },
    {
      "cell_type": "code",
      "source": [
        "%cd /content/gdrive/MyDrive/data\n",
        "%ls"
      ],
      "metadata": {
        "colab": {
          "base_uri": "https://localhost:8080/"
        },
        "id": "9rjSx25OTJQP",
        "outputId": "7e1178e1-aa55-4320-9a2c-573f3e459697"
      },
      "execution_count": null,
      "outputs": [
        {
          "output_type": "stream",
          "name": "stdout",
          "text": [
            "/content/gdrive/MyDrive/data\n",
            "all_train.txt  \u001b[0m\u001b[01;34mJPEGImages\u001b[0m/  \u001b[01;34mlabels\u001b[0m/  \u001b[01;34mresults\u001b[0m/  test.txt  train.txt  trainval.txt  val.txt\n"
          ]
        }
      ]
    }
  ]
}